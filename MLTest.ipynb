{
 "cells": [
  {
   "cell_type": "markdown",
   "metadata": {},
   "source": [
    "# MusicGroup Machine Learning Test"
   ]
  },
  {
   "cell_type": "code",
   "execution_count": 1,
   "metadata": {},
   "outputs": [],
   "source": [
    "from utils import *"
   ]
  },
  {
   "cell_type": "code",
   "execution_count": 2,
   "metadata": {},
   "outputs": [
    {
     "name": "stdout",
     "output_type": "stream",
     "text": [
      "Number of json files fetched: 2831\n"
     ]
    }
   ],
   "source": [
    "databaseDir = 'D:\\Users\\Marc\\Downloads\\music_group_ml_test\\music_group_ml_test\\music_group_ml_test_data'\n",
    "jsonfiles = fetchFiles(databaseDir, '.json')\n",
    "print \"Number of json files fetched: \" + str(len(jsonfiles))"
   ]
  },
  {
   "cell_type": "code",
   "execution_count": 3,
   "metadata": {},
   "outputs": [
    {
     "name": "stdout",
     "output_type": "stream",
     "text": [
      "Created training and testing sets with the following number of sounds:\n",
      "\n",
      "\tTrain\tTest\tTotal\tClass\n",
      "\n",
      "\t83\t465\t548\thihat\n",
      "\t254\t1433\t1687\tbass\n",
      "\t514\t2909\t3423\tguitar\n",
      "\t150\t847\t997\tvocals\n",
      "\t61\t340\t401\ttom\n",
      "\t35\t195\t230\tsaxophone\n",
      "\t117\t662\t779\tpiano\n",
      "\t61\t340\t401\tsnare\n",
      "\t61\t342\t403\tkick\n",
      "\n",
      "\t1336\t7533\t8869\tTOTAL\n"
     ]
    }
   ],
   "source": [
    "data = importData(jsonfiles)\n",
    "labels = data.keys()\n",
    "train, test = randomTrainTest(data, percentage_train=0.3)\n",
    "printDataStats(train, test)"
   ]
  },
  {
   "cell_type": "code",
   "execution_count": 4,
   "metadata": {},
   "outputs": [
    {
     "name": "stdout",
     "output_type": "stream",
     "text": [
      "\n",
      "Classification report\n",
      "\n",
      "             precision    recall  f1-score   support\n",
      "\n",
      "       bass       0.80      0.92      0.85      1433\n",
      "     guitar       0.85      0.97      0.90      2909\n",
      "      hihat       0.84      0.75      0.79       465\n",
      "       kick       1.00      0.31      0.48       342\n",
      "      piano       0.96      0.94      0.95       662\n",
      "  saxophone       0.00      0.00      0.00       195\n",
      "      snare       0.97      0.52      0.68       340\n",
      "        tom       0.87      0.33      0.48       340\n",
      "     vocals       0.74      0.95      0.83       847\n",
      "\n",
      "avg / total       0.83      0.84      0.81      7533\n",
      "\n",
      "Confusion Matrix\n",
      "\n",
      "[[1322  109    0    0    0    0    0    0    2]\n",
      " [  24 2814    4    0   17    0    0    0   50]\n",
      " [   6   12  349    0    0    0    0    0   98]\n",
      " [ 185   35    2  107    0    0    0   11    2]\n",
      " [  10   21    0    0  625    0    0    0    6]\n",
      " [   0   96    0    0    3    0    0    0   96]\n",
      " [   0   96   40    0    3    0  178    5   18]\n",
      " [ 114  103    2    0    0    0    5  111    5]\n",
      " [   0   27   17    0    1    0    0    0  802]]\n"
     ]
    },
    {
     "name": "stderr",
     "output_type": "stream",
     "text": [
      "D:\\Users\\Marc\\AppData\\Roaming\\Python\\Python27\\site-packages\\sklearn\\metrics\\classification.py:1135: UndefinedMetricWarning: Precision and F-score are ill-defined and being set to 0.0 in labels with no predicted samples.\n",
      "  'precision', 'predicted', average, warn_for)\n"
     ]
    },
    {
     "data": {
      "image/png": "[encoded data removed]",
      "text/plain": [
       "<matplotlib.figure.Figure at 0x101589b0>"
      ]
     },
     "metadata": {},
     "output_type": "display_data"
    }
   ],
   "source": [
    "gmms = computeGMMS(train, n_components=2)\n",
    "correct, predicted = scoreGMMS(gmms, test)\n",
    "classificationReport(correct, predicted, labels, plot=True)"
   ]
  }
 ],
 "metadata": {
  "kernelspec": {
   "display_name": "Python 2",
   "language": "python",
   "name": "python2"
  },
  "language_info": {
   "codemirror_mode": {
    "name": "ipython",
    "version": 2
   },
   "file_extension": ".py",
   "mimetype": "text/x-python",
   "name": "python",
   "nbconvert_exporter": "python",
   "pygments_lexer": "ipython2",
   "version": "2.7.13"
  }
 },
 "nbformat": 4,
 "nbformat_minor": 2
}
