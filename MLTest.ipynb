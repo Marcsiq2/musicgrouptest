{
 "cells": [
  {
   "cell_type": "markdown",
   "metadata": {},
   "source": [
    "# MusicGroup Machine Learning Test"
   ]
  },
  {
   "cell_type": "code",
   "execution_count": 1,
   "metadata": {},
   "outputs": [],
   "source": [
    "from utils import *"
   ]
  },
  {
   "cell_type": "code",
   "execution_count": 2,
   "metadata": {},
   "outputs": [
    {
     "name": "stdout",
     "output_type": "stream",
     "text": [
      "Number of json files fetched: 2831\n"
     ]
    }
   ],
   "source": [
    "databaseDir = 'D:\\Users\\Marc\\Downloads\\music_group_ml_test\\music_group_ml_test\\music_group_ml_test_data'\n",
    "jsonfiles = fetchFiles(databaseDir, '.json')\n",
    "print \"Number of json files fetched: \" + str(len(jsonfiles))"
   ]
  },
  {
   "cell_type": "code",
   "execution_count": 3,
   "metadata": {},
   "outputs": [
    {
     "name": "stdout",
     "output_type": "stream",
     "text": [
      "Created training and testing sets with the following number of sounds:\n",
      "\n",
      "\tTrain\tTest\tTotal\tClass\n",
      "\n",
      "\t165\t383\t548\thihat\n",
      "\t507\t1180\t1687\tbass\n",
      "\t1027\t2396\t3423\tguitar\n",
      "\t300\t697\t997\tvocals\n",
      "\t121\t280\t401\ttom\n",
      "\t69\t161\t230\tsaxophone\n",
      "\t234\t545\t779\tpiano\n",
      "\t121\t280\t401\tsnare\n",
      "\t121\t282\t403\tkick\n",
      "\n",
      "\t2665\t6204\t8869\tTOTAL\n"
     ]
    }
   ],
   "source": [
    "data = importData(jsonfiles)\n",
    "train, test = randomTrainTest(data, percentage_train=0.3)\n",
    "printDataStats(train, test)"
   ]
  },
  {
   "cell_type": "code",
   "execution_count": 4,
   "metadata": {},
   "outputs": [
    {
     "name": "stdout",
     "output_type": "stream",
     "text": [
      "\n",
      "Classification report\n",
      "\n",
      "             precision    recall  f1-score   support\n",
      "\n",
      "       bass       0.93      0.90      0.92      1180\n",
      "     guitar       0.92      0.97      0.95      2396\n",
      "      hihat       0.88      0.77      0.82       383\n",
      "       kick       0.89      0.62      0.73       282\n",
      "      piano       0.96      0.97      0.96       545\n",
      "  saxophone       1.00      0.52      0.69       161\n",
      "      snare       0.96      0.83      0.89       280\n",
      "        tom       0.80      0.82      0.81       280\n",
      "     vocals       0.79      0.96      0.87       697\n",
      "\n",
      "avg / total       0.91      0.90      0.90      6204\n",
      "\n",
      "Confusion Matrix\n",
      "\n",
      "[[1064   94    0   19    1    0    0    2    0]\n",
      " [   9 2323    9    0   15    0    4    0   36]\n",
      " [   6    1  296    0    0    0    3    0   77]\n",
      " [  43    8    2  174    0    0    0   55    0]\n",
      " [   3   12    0    0  526    0    0    0    4]\n",
      " [   0   14    1    0    2   84    0    0   60]\n",
      " [   0   25   15    0    4    0  232    1    3]\n",
      " [  17   26    2    2    0    0    2  231    0]\n",
      " [   0   13   12    0    1    0    0    0  671]]\n"
     ]
    }
   ],
   "source": [
    "gmms = computeGMMS(train, n_components=2)\n",
    "correct, predicted = scoreGMMS(gmms, test)\n",
    "classificationReport(correct, predicted)"
   ]
  }
 ],
 "metadata": {
  "kernelspec": {
   "display_name": "Python 2",
   "language": "python",
   "name": "python2"
  },
  "language_info": {
   "codemirror_mode": {
    "name": "ipython",
    "version": 2
   },
   "file_extension": ".py",
   "mimetype": "text/x-python",
   "name": "python",
   "nbconvert_exporter": "python",
   "pygments_lexer": "ipython2",
   "version": "2.7.13"
  }
 },
 "nbformat": 4,
 "nbformat_minor": 2
}
