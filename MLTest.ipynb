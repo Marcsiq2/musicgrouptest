{
 "cells": [
  {
   "cell_type": "markdown",
   "metadata": {},
   "source": [
    "# MusicGroup Machine Learning Test"
   ]
  },
  {
   "cell_type": "code",
   "execution_count": 1,
   "metadata": {},
   "outputs": [],
   "source": [
    "from utils import *\n",
    "import warnings\n",
    "warnings.filterwarnings('ignore')"
   ]
  },
  {
   "cell_type": "code",
   "execution_count": 2,
   "metadata": {
    "scrolled": true
   },
   "outputs": [
    {
     "name": "stdout",
     "output_type": "stream",
     "text": [
      "Number of json files fetched: 2831\n"
     ]
    }
   ],
   "source": [
    "databaseDir = 'D:\\Users\\Marc\\Downloads\\music_group_ml_test\\music_group_ml_test\\music_group_ml_test_data'\n",
    "jsonfiles = fetchFiles(databaseDir, '.json')\n",
    "print \"Number of json files fetched: \" + str(len(jsonfiles))"
   ]
  },
  {
   "cell_type": "code",
   "execution_count": 3,
   "metadata": {},
   "outputs": [
    {
     "name": "stdout",
     "output_type": "stream",
     "text": [
      "Created training and testing sets with the following number of sounds:\n",
      "\n",
      "\tTrain\tTest\tTotal\tClass\n",
      "\n",
      "\t384\t164\t548\thihat\n",
      "\t1181\t506\t1687\tbass\n",
      "\t2397\t1026\t3423\tguitar\n",
      "\t698\t299\t997\tvocals\n",
      "\t281\t120\t401\ttom\n",
      "\t161\t69\t230\tsaxophone\n",
      "\t546\t233\t779\tpiano\n",
      "\t281\t120\t401\tsnare\n",
      "\t283\t120\t403\tkick\n",
      "\n",
      "\t6212\t2657\t8869\tTOTAL\n"
     ]
    }
   ],
   "source": [
    "data = importData(jsonfiles)\n",
    "train, test = randomTrainTest(data, percentage_train=0.7)\n",
    "printDataStats(train, test)"
   ]
  },
  {
   "cell_type": "code",
   "execution_count": 4,
   "metadata": {},
   "outputs": [
    {
     "name": "stdout",
     "output_type": "stream",
     "text": [
      "\n",
      "Classification report\n",
      "\n",
      "             precision    recall  f1-score   support\n",
      "\n",
      "       bass       0.97      0.89      0.93       506\n",
      "     guitar       0.93      0.96      0.94      1026\n",
      "      hihat       0.89      0.77      0.82       164\n",
      "       kick       0.87      0.84      0.86       120\n",
      "      piano       0.93      0.96      0.95       233\n",
      "  saxophone       1.00      0.70      0.82        69\n",
      "      snare       0.89      0.87      0.88       120\n",
      "        tom       0.89      0.85      0.87       120\n",
      "     vocals       0.80      0.97      0.88       299\n",
      "\n",
      "avg / total       0.92      0.91      0.91      2657\n",
      "\n",
      "Confusion Matrix\n",
      "\n",
      "[[449  40   0  12   0   0   0   1   4]\n",
      " [  1 980   8   0  11   0   9   0  17]\n",
      " [  1   2 126   0   0   0   1   0  34]\n",
      " [  8   1   0 101   0   0   0  10   0]\n",
      " [  3   6   0   0 224   0   0   0   0]\n",
      " [  0   6   0   0   1  48   0   0  14]\n",
      " [  0   7   6   0   0   0 104   1   2]\n",
      " [  2   9   0   3   1   0   3 102   0]\n",
      " [  0   5   2   0   3   0   0   0 289]]\n"
     ]
    }
   ],
   "source": [
    "gmms = computeGMMS(train, n_components=6)\n",
    "correct, predicted = scoreGMMS(gmms, test)\n",
    "classificationReport(correct, predicted)"
   ]
  },
  {
   "cell_type": "code",
   "execution_count": 5,
   "metadata": {},
   "outputs": [
    {
     "name": "stdout",
     "output_type": "stream",
     "text": [
      "Results with 10 number of runs p_train 0.70 and n_components 6 :\n",
      "\n",
      "\tPrec\tRec\tf1-s\n",
      "\n",
      "Run 1:\t0.903\t0.901\t0.900\n",
      "Run 2:\t0.890\t0.888\t0.887\n",
      "Run 3:\t0.906\t0.904\t0.903\n",
      "Run 4:\t0.919\t0.919\t0.918\n",
      "Run 5:\t0.910\t0.907\t0.906\n",
      "Run 6:\t0.917\t0.916\t0.915\n",
      "Run 7:\t0.911\t0.910\t0.909\n",
      "Run 8:\t0.903\t0.899\t0.898\n",
      "Run 9:\t0.910\t0.908\t0.907\n",
      "Run 10:\t0.906\t0.906\t0.904\n",
      "\n",
      "avg:\t0.908\t0.906\t0.905\n",
      "\n"
     ]
    }
   ],
   "source": [
    "stats = runXtimes(data, percentage_train=0.7, n_components=6, nruns=10, printa=True)"
   ]
  },
  {
   "cell_type": "code",
   "execution_count": 6,
   "metadata": {},
   "outputs": [
    {
     "name": "stdout",
     "output_type": "stream",
     "text": [
      "\tPrec\tRec\tf1-s\n",
      "\n",
      "ncomp 1:0.909\t0.902\t0.902\n",
      "ncomp 2:0.911\t0.906\t0.906\n",
      "ncomp 3:0.912\t0.910\t0.909\n",
      "ncomp 4:0.910\t0.908\t0.907\n",
      "ncomp 5:0.908\t0.906\t0.906\n",
      "ncomp 6:0.913\t0.910\t0.910\n",
      "ncomp 7:0.911\t0.909\t0.908\n",
      "ncomp 8:0.903\t0.900\t0.898\n",
      "ncomp 9:0.899\t0.896\t0.892\n",
      "ncomp 10:0.896\t0.890\t0.883\n"
     ]
    }
   ],
   "source": [
    "print '\\tPrec\\tRec\\tf1-s\\n'\n",
    "for comp in range(1,11,1):\n",
    "    stats = runXtimes(data, 0.7, comp, 10, False)\n",
    "    print 'ncomp {0}:'.format(comp) + '\\t'.join(['%.3f' % a for a in stats])"
   ]
  },
  {
   "cell_type": "code",
   "execution_count": 7,
   "metadata": {},
   "outputs": [
    {
     "name": "stdout",
     "output_type": "stream",
     "text": [
      "Results with 10 number of runs p_train 0.70 and n_components 6 :\n",
      "\n",
      "\tPrec\tRec\tf1-s\n",
      "\n",
      "Run 1:\t0.940\t0.936\t0.936\n",
      "Run 2:\t0.936\t0.935\t0.934\n",
      "Run 3:\t0.934\t0.930\t0.931\n",
      "Run 4:\t0.939\t0.932\t0.933\n",
      "Run 5:\t0.917\t0.898\t0.900\n",
      "Run 6:\t0.930\t0.920\t0.921\n",
      "Run 7:\t0.935\t0.931\t0.932\n",
      "Run 8:\t0.937\t0.935\t0.934\n",
      "Run 9:\t0.944\t0.942\t0.942\n",
      "Run 10:\t0.932\t0.931\t0.931\n",
      "\n",
      "avg:\t0.934\t0.929\t0.929\n",
      "\n"
     ]
    }
   ],
   "source": [
    "data_norm = normalize_data(data)\n",
    "stats = runXtimes(data_norm, percentage_train=0.7, n_components=6, nruns=10, printa=True)"
   ]
  }
 ],
 "metadata": {
  "kernelspec": {
   "display_name": "Python 2",
   "language": "python",
   "name": "python2"
  },
  "language_info": {
   "codemirror_mode": {
    "name": "ipython",
    "version": 2
   },
   "file_extension": ".py",
   "mimetype": "text/x-python",
   "name": "python",
   "nbconvert_exporter": "python",
   "pygments_lexer": "ipython2",
   "version": "2.7.13"
  }
 },
 "nbformat": 4,
 "nbformat_minor": 2
}
