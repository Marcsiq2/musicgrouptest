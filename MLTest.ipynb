{
 "cells": [
  {
   "cell_type": "markdown",
   "metadata": {},
   "source": [
    "# MusicGroup Machine Learning Test\n",
    "\n",
    "Marc Siquier Penyafort  \n",
    "marcsiquierpenyafort@gmail.com"
   ]
  },
  {
   "cell_type": "markdown",
   "metadata": {},
   "source": [
    "#### Import all necessary packages and functions from utils file\n",
    "I will use `sklearn` in order to train and test GMMs and to evaluate the results.   \n",
    "Warnings appear when setting a high train percentage and (as the test dataset is very small) 0 instances are classified for a given class."
   ]
  },
  {
   "cell_type": "code",
   "execution_count": 1,
   "metadata": {},
   "outputs": [],
   "source": [
    "from utils import *\n",
    "import random\n",
    "import warnings\n",
    "warnings.filterwarnings('ignore')"
   ]
  },
  {
   "cell_type": "markdown",
   "metadata": {},
   "source": [
    "#### Fetch all json database files in `databaseDir` directory.\n",
    "**Note:** Please set-up your `databaseDir` to the dataset folder."
   ]
  },
  {
   "cell_type": "code",
   "execution_count": 2,
   "metadata": {
    "scrolled": true
   },
   "outputs": [
    {
     "name": "stdout",
     "output_type": "stream",
     "text": [
      "Number of json files fetched: 2831\n"
     ]
    }
   ],
   "source": [
    "databaseDir = '/home/msiquier/Documents/music_group_ml_test/music_group_ml_test_data'\n",
    "jsonfiles = fetchFiles(databaseDir, '.json')\n",
    "print \"Number of json files fetched: \" + str(len(jsonfiles))"
   ]
  },
  {
   "cell_type": "markdown",
   "metadata": {},
   "source": [
    "#### Task 1: Data loading\n",
    "Here I import all samples from the fetched json files, taking into account that each file can contain more than one sample.   \n",
    "The `data` structure is a python dictionary with the different instruments as keys and for each instrument (key) a list of feature vectors is given. We can also convert it to XY vectors using `convertToXY`.   \n",
    "As I am going to build manually a GMM per class, I will go on with the dict structure because I find it easier to treat and iterate through as it gives you instant acces to all samples for each class.\n",
    "Afterwards, I divide randomly the dataset into train and test (keeping the dict structure) and ensuring that every class has a given percentage of train samples. "
   ]
  },
  {
   "cell_type": "code",
   "execution_count": 3,
   "metadata": {},
   "outputs": [
    {
     "name": "stdout",
     "output_type": "stream",
     "text": [
      "Created training and testing sets with the following number of samples:\n",
      "\n",
      "\tTrain\tTest\tTotal\tClass\n",
      "\n",
      "\t384\t164\t548\thihat\n",
      "\t1181\t506\t1687\tbass\n",
      "\t2397\t1026\t3423\tguitar\n",
      "\t161\t69\t230\tsaxophone\n",
      "\t281\t120\t401\ttom\n",
      "\t698\t299\t997\tvocals\n",
      "\t281\t120\t401\tsnare\n",
      "\t546\t233\t779\tpiano\n",
      "\t283\t120\t403\tkick\n",
      "\n",
      "\t6212\t2657\t8869\tTOTAL\n"
     ]
    }
   ],
   "source": [
    "data = importData(jsonfiles)\n",
    "#X, Y = convertToXY(data)\n",
    "train, test = randomTrainTest(data, percentage_train=0.7)\n",
    "printDataStats(train, test)"
   ]
  },
  {
   "cell_type": "markdown",
   "metadata": {},
   "source": [
    "As we can see, we have 9 different classes with a total of 8869 samples.   \n",
    "Dividing the dataset into train and test with a train percentage of 0.7 we obtain 6212 training samples and 2657 test samples.   \n",
    "As we have different number of instances per class we say it is a unbalanced dataset and probabilistic generative models such as GMMs are known for work properly with this type of datasets."
   ]
  },
  {
   "cell_type": "markdown",
   "metadata": {},
   "source": [
    "#### Compute and Score GMMs\n",
    "Here I will compute a GMM for each class with the train dataset using 6 gaussian components and full (each component has its own general covariance matrix) covariance matrix.  \n",
    "As predicted class I take the GMM with best score for each test sample.   \n",
    "**Note:**: As we divide the dataset randomly, results vary for each execution of the code below."
   ]
  },
  {
   "cell_type": "code",
   "execution_count": 4,
   "metadata": {},
   "outputs": [
    {
     "name": "stdout",
     "output_type": "stream",
     "text": [
      "\n",
      "Classification report\n",
      "\n",
      "             precision    recall  f1-score   support\n",
      "\n",
      "       bass       0.95      0.84      0.89       506\n",
      "     guitar       0.94      0.97      0.95      1026\n",
      "      hihat       0.81      0.75      0.78       164\n",
      "       kick       0.76      0.85      0.80       120\n",
      "      piano       0.95      0.99      0.97       233\n",
      "  saxophone       0.98      0.90      0.94        69\n",
      "      snare       0.91      0.82      0.86       120\n",
      "        tom       0.86      0.88      0.87       120\n",
      "     vocals       0.86      0.96      0.91       299\n",
      "\n",
      "avg / total       0.91      0.91      0.91      2657\n",
      "\n",
      "Confusion Matrix\n",
      "\n",
      "[[425  43   0  31   0   0   0   7   0]\n",
      " [  6 992   6   0   9   1   4   0   8]\n",
      " [  3   4 123   0   0   0   1   0  33]\n",
      " [  6   1   1 102   0   0   0  10   0]\n",
      " [  1   1   0   0 231   0   0   0   0]\n",
      " [  0   1   0   0   1  62   0   0   5]\n",
      " [  0   5  16   0   0   0  98   0   1]\n",
      " [  5   2   0   1   1   0   5 105   1]\n",
      " [  0   6   6   0   0   0   0   0 287]]\n"
     ]
    }
   ],
   "source": [
    "gmms = computeGMMS(train, n_components=3, covariance_type='full')\n",
    "correct, predicted = scoreGMMS(gmms, test)\n",
    "classificationReport(correct, predicted)"
   ]
  },
  {
   "cell_type": "markdown",
   "metadata": {},
   "source": [
    "#### Fine-Tuning the models\n",
    "Now that we see that this models work great with this dataset, I will try to fine tune some of its parameters such as number of components and covariance matrix type. In order to avoid execution dependant results, I am going to analyze it in a recursive way. For each covariance matrix type, and for each number of gaussian components I am going to execute the whole process (dividing randomly the dataset, training and testing) several times (`nruns`) and I am going to take the average F1-score of this `nruns` iterations."
   ]
  },
  {
   "cell_type": "code",
   "execution_count": 5,
   "metadata": {
    "scrolled": false
   },
   "outputs": [
    {
     "name": "stdout",
     "output_type": "stream",
     "text": [
      "\n",
      "***** Best F1-score of 0.92239888654 --> with cov: tied and n_comp: 21 *****\n"
     ]
    },
    {
     "data": {
      "image/png": "[encoded data removed]",
      "text/plain": [
       "<matplotlib.figure.Figure at 0x7fa1b16c5d90>"
      ]
     },
     "metadata": {},
     "output_type": "display_data"
    },
    {
     "name": "stdout",
     "output_type": "stream",
     "text": [
      "CPU times: user 1h 43min 5s, sys: 43min 29s, total: 2h 26min 35s\n",
      "Wall time: 1h 18min 23s\n"
     ]
    }
   ],
   "source": [
    "%%time\n",
    "bcov, bcomp = analyzeGMMs(data, max_components=50, nruns=3, results_file='results.csv')"
   ]
  },
  {
   "cell_type": "markdown",
   "metadata": {},
   "source": [
    "Here we tested how the model works varying the number of gaussian components and the covariance type. In the [results csv file](results.csv) we can see the results (precission, recall and f1score) for each iteration of the process.\n",
    "\n",
    "In the plot above each bar is the average of `nruns`=3 iterations. We can see that for this particular dataset `spherical` covariance matrix does not seem to work good. `full` covariance matrix performance decrease as we increase the number of components as the computations are more complex. `diagonal` covariance matrix starts working properly from 15 gaussian components and `tied` covariance matrix works good for any number of components."
   ]
  },
  {
   "cell_type": "markdown",
   "metadata": {},
   "source": [
    "#### Fine tuning the models with normalized data\n",
    "Now in order to improve the performance of GMMs, as they are known to work better with normalized data, I am going to normalize the whole dataset and repeat the experiment above with this new normalized data."
   ]
  },
  {
   "cell_type": "code",
   "execution_count": 6,
   "metadata": {
    "scrolled": false
   },
   "outputs": [
    {
     "name": "stdout",
     "output_type": "stream",
     "text": [
      "\n",
      "***** Best F1-score of 0.944669157945 --> with cov: tied and n_comp: 42 *****\n"
     ]
    },
    {
     "data": {
      "image/png": "[encoded data removed]",
      "text/plain": [
       "<matplotlib.figure.Figure at 0x7fa17cd87550>"
      ]
     },
     "metadata": {},
     "output_type": "display_data"
    },
    {
     "name": "stdout",
     "output_type": "stream",
     "text": [
      "CPU times: user 1h 34min 32s, sys: 35min 51s, total: 2h 10min 23s\n",
      "Wall time: 1h 14min 33s\n"
     ]
    }
   ],
   "source": [
    "%%time\n",
    "data_norm = normalize_data(data)\n",
    "bcov, bcomp = analyzeGMMs(data_norm, max_components=50, nruns=3, results_file='results_norm.csv')"
   ]
  },
  {
   "cell_type": "markdown",
   "metadata": {},
   "source": [
    "Here we tested how the model works varying the number of gaussian components and the covariance type with **normalized data**. In the [results csv file](results_norm.csv) we can see the results (precission, recall and f1score) for each iteration of the process.\n",
    "\n",
    "In the plot above each bar is the average of `nruns`=3 iterations. With normalized data we can see the typical behaviour of GMMs. For `tied`, `diagonal` and `spherical` covariance matrix the F1-Score increases logarithmically as we increase the number of components, and for the `full` covariance matrix it decreases as we increase the number of components because the complex computations."
   ]
  },
  {
   "cell_type": "markdown",
   "metadata": {},
   "source": [
    "### Final Results\n",
    "Now with the best parameters obtained in the experiment above I am going to perform a single execution in order to get the final results without averaging iterations."
   ]
  },
  {
   "cell_type": "code",
   "execution_count": 7,
   "metadata": {},
   "outputs": [
    {
     "name": "stdout",
     "output_type": "stream",
     "text": [
      "\n",
      "Classification report\n",
      "\n",
      "             precision    recall  f1-score   support\n",
      "\n",
      "       bass       0.97      0.91      0.94       506\n",
      "     guitar       0.97      0.98      0.98      1026\n",
      "      hihat       0.90      0.84      0.87       164\n",
      "       kick       0.78      0.81      0.80       120\n",
      "      piano       0.98      0.98      0.98       233\n",
      "  saxophone       1.00      0.86      0.92        69\n",
      "      snare       0.93      0.94      0.93       120\n",
      "        tom       0.90      0.90      0.90       120\n",
      "     vocals       0.88      0.99      0.93       299\n",
      "\n",
      "avg / total       0.95      0.94      0.94      2657\n",
      "\n",
      "Confusion Matrix\n",
      "\n",
      "[[ 458   20    4   22    1    0    0    1    0]\n",
      " [   4 1010    1    0    3    0    5    0    3]\n",
      " [   1    0  137    0    0    0    0    0   26]\n",
      " [   7    3    1   97    0    0    1   11    0]\n",
      " [   1    2    0    0  229    0    0    0    1]\n",
      " [   0    0    0    0    0   59    1    0    9]\n",
      " [   0    0    5    0    1    0  113    0    1]\n",
      " [   1    2    2    5    0    0    2  108    0]\n",
      " [   0    0    2    0    0    0    0    0  297]]\n"
     ]
    }
   ],
   "source": [
    "train, test = randomTrainTest(data_norm, percentage_train = 0.7)\n",
    "gmms = computeGMMS(train, n_components=bcomp, covariance_type=bcov)\n",
    "correct, predicted = scoreGMMS(gmms, test)\n",
    "classificationReport(correct, predicted)"
   ]
  },
  {
   "cell_type": "markdown",
   "metadata": {},
   "source": [
    "In the cell below I perform a classification of a single random sample just to compute the prediction CPU time. As we can see the prediction of a single sample varies depending on the execution, but never takes much more than 10ms."
   ]
  },
  {
   "cell_type": "code",
   "execution_count": 46,
   "metadata": {},
   "outputs": [
    {
     "name": "stdout",
     "output_type": "stream",
     "text": [
      "kick kick\n",
      "CPU times: user 9.99 ms, sys: 0 ns, total: 9.99 ms\n",
      "Wall time: 10.4 ms\n"
     ]
    }
   ],
   "source": [
    "%%time\n",
    "clas = random.choice(test.keys())\n",
    "sample = random.choice(test[clas])\n",
    "predicted = predict(gmms,sample)\n",
    "print clas, predicted"
   ]
  }
 ],
 "metadata": {
  "kernelspec": {
   "display_name": "Python 2",
   "language": "python",
   "name": "python2"
  },
  "language_info": {
   "codemirror_mode": {
    "name": "ipython",
    "version": 2
   },
   "file_extension": ".py",
   "mimetype": "text/x-python",
   "name": "python",
   "nbconvert_exporter": "python",
   "pygments_lexer": "ipython2",
   "version": "2.7.14"
  }
 },
 "nbformat": 4,
 "nbformat_minor": 2
}
